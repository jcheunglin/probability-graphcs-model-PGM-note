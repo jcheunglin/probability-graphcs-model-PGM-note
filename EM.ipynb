{
 "cells": [
  {
   "cell_type": "markdown",
   "metadata": {},
   "source": [
    "## EM Algorithm"
   ]
  },
  {
   "cell_type": "code",
   "execution_count": 1,
   "metadata": {
    "collapsed": true
   },
   "outputs": [],
   "source": [
    "import math\n",
    "import numpy as np"
   ]
  },
  {
   "cell_type": "markdown",
   "metadata": {},
   "source": [
    "生成数据，生成学生的身高数据，现在假设男生和女生均服从正态分布，其中男生身高$X_{male}\\sim N(170,5)$，女生的身高$X_{female}\\sim N(160,5)$,从混合分布$1/2(N_{male}+N_{female})$抽取样本"
   ]
  },
  {
   "cell_type": "code",
   "execution_count": 2,
   "metadata": {
    "collapsed": true
   },
   "outputs": [],
   "source": [
    "def sample_data(n,u_1=170,u_2=160,var=5,ratio=0.5):\n",
    "    obs = []\n",
    "    latents =[]\n",
    "    for _ in range(n):\n",
    "        z = np.random.choice([0,1],p=[ratio,1-ratio],size=1)\n",
    "        if z==0:\n",
    "            ob = np.random.normal(loc=u_1,scale=var,size=1)\n",
    "        else:\n",
    "            ob = np.random.normal(loc=u_2,scale=var,size=1)\n",
    "        obs.append(ob)\n",
    "        latents.append(z)\n",
    "    return np.array(obs),np.array(latents)"
   ]
  },
  {
   "cell_type": "code",
   "execution_count": 3,
   "metadata": {},
   "outputs": [],
   "source": [
    "samples,genders = sample_data(1000)"
   ]
  },
  {
   "cell_type": "markdown",
   "metadata": {},
   "source": [
    "### 初始化参数   \n",
    "$\\mu_{1} = 177 , \\mu_{2} = 155$  \n",
    "根据最大似然得到参数的估计：$\\mu = \\frac{\\sum_{i}{p(z_{i}|x_{i},\\theta)X_{i}}}{\\sum_{i}{p(z_{i}|x_{i},\\theta)}}$"
   ]
  },
  {
   "cell_type": "code",
   "execution_count": 4,
   "metadata": {},
   "outputs": [
    {
     "name": "stdout",
     "output_type": "stream",
     "text": [
      "step 1 theta estimation : [171.32952213 159.60850099]\n",
      "step 2 theta estimation : [171.02823422 159.29283143]\n",
      "step 3 theta estimation : [170.87980305 159.12930649]\n",
      "step 4 theta estimation : [170.8047365  159.04780539]\n",
      "step 5 theta estimation : [170.7662735  159.00619059]\n",
      "step 6 theta estimation : [170.74637268 158.98465996]\n",
      "step 7 theta estimation : [170.73601762 158.97345215]\n",
      "step 8 theta estimation : [170.73061321 158.96760075]\n",
      "step 9 theta estimation : [170.7277881  158.96454138]\n",
      "step 10 theta estimation : [170.72631008 158.96294062]\n"
     ]
    }
   ],
   "source": [
    "mu = np.array([177, 155])\n",
    "mus = [mu]\n",
    "posterior_z = np.ones((len(genders),2))/2\n",
    "epochs=10\n",
    "for epoch in range(epochs):\n",
    "    for index, sample in enumerate(samples):\n",
    "        #caculate posterior\n",
    "        likelyhood_male = math.exp(-(sample-mu[0])**2/(2*3))\n",
    "        likelyhood_female = math.exp(-(sample-mu[1])**2/(2*3))\n",
    "        posterior = np.array([likelyhood_male,likelyhood_female])/(likelyhood_male+likelyhood_female)\n",
    "#         print(posterior)\n",
    "        posterior_z[index]=posterior\n",
    "    sum_z = posterior_z.sum(0)\n",
    "#     print('sum z ',sum_z)\n",
    "    sum_pz_x = posterior_z.T.dot(samples).squeeze()\n",
    "#     print('sum_pz_x',sum_pz_x)\n",
    "    mu = sum_pz_x/sum_z\n",
    "    mus.append(mu)\n",
    "    print('step %d theta estimation :'%(epoch+1),mu)"
   ]
  },
  {
   "cell_type": "code",
   "execution_count": null,
   "metadata": {
    "collapsed": true
   },
   "outputs": [],
   "source": []
  }
 ],
 "metadata": {
  "kernelspec": {
   "display_name": "Python 3",
   "language": "python",
   "name": "python3"
  },
  "language_info": {
   "codemirror_mode": {
    "name": "ipython",
    "version": 3
   },
   "file_extension": ".py",
   "mimetype": "text/x-python",
   "name": "python",
   "nbconvert_exporter": "python",
   "pygments_lexer": "ipython3",
   "version": "3.6.2"
  }
 },
 "nbformat": 4,
 "nbformat_minor": 2
}
