{
 "cells": [
  {
   "cell_type": "markdown",
   "metadata": {},
   "source": [
    "# HMM Algorithm"
   ]
  },
  {
   "cell_type": "markdown",
   "metadata": {},
   "source": [
    "### 生成模拟数据\n",
    "隐藏状态$Z$是一个病人的身体状态，有正常，普通感冒，重感冒三种状态。初始状态服从$\\pi \\sim [0.5,0.3,0.2]$  \n",
    "医生的观测状态是病人的人的描述特征$X$，有正常，发烧，头疼三种状态"
   ]
  },
  {
   "cell_type": "code",
   "execution_count": 1,
   "metadata": {
    "collapsed": true
   },
   "outputs": [],
   "source": [
    "import numpy as np\n",
    "import math\n",
    "Z = ['normal','favour','heavy']\n",
    "pi = np.array([[0.5,0.3,0.2]])\n",
    "trans_mat = np.array([[0.6,0.25,0.15],\n",
    "                      [0.3,0.4,0.3],\n",
    "                      [0.2,0.3,0.5]])\n",
    "emit_mat = np.array([[0.55,0.25,0.2],\n",
    "                     [0.3,0.4,0.3],\n",
    "                     [0.2,0.4,0.4]])"
   ]
  },
  {
   "cell_type": "code",
   "execution_count": 2,
   "metadata": {
    "collapsed": true
   },
   "outputs": [],
   "source": [
    "def sample_data(n=100,length=5,pi=pi,trans_mat=trans_mat,emit_mat=emit_mat):\n",
    "    obs = []\n",
    "    hiddens = []\n",
    "    for _ in range(n):\n",
    "        sample_z = []\n",
    "        sample_x = []\n",
    "        for i in range(length):\n",
    "            pi_ = pi.copy()\n",
    "            z = np.random.choice(Z,p=pi_.squeeze(),size=1)[0]\n",
    "            if z =='normal':\n",
    "                ob = np.random.choice(range(3),p=emit_mat[0],size=1)[0]\n",
    "            elif z =='favour':\n",
    "                ob = np.random.choice(range(3),p=emit_mat[1],size=1)[0]\n",
    "            else:\n",
    "                ob = np.random.choice(range(3),p=emit_mat[2],size=1)[0]\n",
    "            \n",
    "            sample_z.append(z)\n",
    "            sample_x.append(ob)\n",
    "            pi_ =pi_.dot(trans_mat) # trans\n",
    "        obs.append(sample_x)\n",
    "        hiddens.append(sample_z)\n",
    "    return obs, hiddens                    "
   ]
  },
  {
   "cell_type": "code",
   "execution_count": 3,
   "metadata": {
    "collapsed": true
   },
   "outputs": [],
   "source": [
    "samples_obs,samples_hiddens =sample_data(n=100,length=7)"
   ]
  },
  {
   "cell_type": "markdown",
   "metadata": {},
   "source": [
    "### HMM概率计算问题   \n",
    "给定所有参数，计算序列出现的概率  \n",
    "使用前向算法计算概率,由$P(O|\\theta) = \\sum_{j}^{m}P(O,I_{T}=j)$  \n",
    "定义$\\alpha_{t}(j)= P(O,I_{t}=j)$  \n",
    "则得到递推式$\\alpha_{t+1}(i)= (\\sum_{i}^{m}\\alpha_{t}(i)a_{i,j})b_{j}(o_{i})$  \n",
    "因此 $P(O|\\theta) = \\sum_{j}^{m}\\alpha_{T}(j)$"
   ]
  },
  {
   "cell_type": "code",
   "execution_count": 4,
   "metadata": {
    "collapsed": true
   },
   "outputs": [],
   "source": [
    "def forward(sample,pi=pi,trans_mat = trans_mat,emit_mat = emit_mat):\n",
    "    pi_ = pi.copy()\n",
    "    n,m = len(sample),len(trans_mat)\n",
    "    forward_mat = np.zeros((n,m)) # shape=[m, length]\n",
    "    O_0 = sample[0]\n",
    "    b_0 = emit_mat[:,O_0]\n",
    "    \n",
    "    alpha_0 = pi_.squeeze()*b_0  #  t_0 \n",
    "    forward_mat[0]=alpha_0\n",
    "    # forward \n",
    "    for t in range(1,n):\n",
    "        for j in range(m):\n",
    "            O_t = sample[t]\n",
    "            b_t_j = emit_mat[j,O_t]\n",
    "            \n",
    "            alpha_t_j_sum =(forward_mat[t-1]*trans_mat[:,j]).sum()\n",
    "            alpha_tj_sum_bj = alpha_t_j_sum*b_t_j\n",
    "            forward_mat[t,j]=alpha_tj_sum_bj\n",
    "    return forward_mat[t].sum()"
   ]
  },
  {
   "cell_type": "code",
   "execution_count": 5,
   "metadata": {},
   "outputs": [
    {
     "name": "stdout",
     "output_type": "stream",
     "text": [
      "sample : 1 probabilty : 0.000357\n",
      "sample : 2 probabilty : 0.000600\n",
      "sample : 3 probabilty : 0.000753\n",
      "sample : 4 probabilty : 0.000291\n",
      "sample : 5 probabilty : 0.000355\n",
      "sample : 6 probabilty : 0.000740\n",
      "sample : 7 probabilty : 0.000522\n",
      "sample : 8 probabilty : 0.000337\n",
      "sample : 9 probabilty : 0.000740\n",
      "sample : 10 probabilty : 0.000413\n"
     ]
    }
   ],
   "source": [
    "for i, sample in enumerate(samples_obs[:10]):\n",
    "    proba=forward(sample)\n",
    "    print('sample : %d probabilty : %.6f'%(i+1,proba))"
   ]
  },
  {
   "cell_type": "markdown",
   "metadata": {},
   "source": [
    "### HMM的解码问题   \n",
    "给定参数以及观测序列，求使观测出现的最大概率隐状态序列 $\\mathop{\\arg\\max}_{I} \\ \\ P(O,I)$  \n",
    "穷举所有状态然后计算序列概率，则复杂度为$O(M^{T})$，其中M是隐状态维度，T为序列长度，使用动态规划算法Viterbi算法进行解码  \n",
    "Viterbi定义了两种局部状态，分别是  \n",
    "$\\delta_{t}(i)=\\mathop{\\max}_{1\\leq{j}\\leq{m}} \\ [\\delta_{t-1}(j)a_{ji}]b_{i}(o_{i})$  \n",
    "$\\psi_{t}{i} = \\mathop{\\arg\\max}_{1\\leq{j}\\leq{m}} \\ [\\delta_{t-1}(j)a_{ji}]$  \n",
    "其中初始  \n",
    "$\\delta_{1}(i) = \\pi_{i}b_{i}(o_{1})$  \n",
    "$\\psi_{1}(i)=0$"
   ]
  },
  {
   "cell_type": "code",
   "execution_count": 6,
   "metadata": {},
   "outputs": [],
   "source": [
    "def viterbi_decode(sample,pi=pi,trans_mat = trans_mat,emit_mat=emit_mat):\n",
    "    \n",
    "    pi_ = pi.copy()\n",
    "    n, m = len(sample), len(trans_mat)\n",
    "    \n",
    "    score_mat = np.zeros((n,m)) \n",
    "    path_mat = np.zeros((n,m),dtype=np.int32) # shape=[m, length]\n",
    "    \n",
    "    X_0 = sample[0]\n",
    "    b_0 = emit_mat[:,X_0]\n",
    "    delta_0 = pi_.squeeze()*b_0 \n",
    "    \n",
    "    score_mat[0] = delta_0\n",
    "    path_mat[0]=np.array([-1,-1,-1]) # start node\n",
    "    \n",
    "    for t in range(1,n):\n",
    "        X_t = sample[t]\n",
    "        for i in range(m):\n",
    "            b_i = emit_mat[i,X_t]  #  emission\n",
    "            delta_a_ji = score_mat[t-1]*(trans_mat[:,i])  \n",
    "            psi_t_i = np.argmax(delta_a_ji)\n",
    "            \n",
    "            path_mat[t,i] = psi_t_i\n",
    "            maxprob_t_i = delta_a_ji[psi_t_i]*b_i\n",
    "            score_mat[t,i] = maxprob_t_i\n",
    "    best_t = np.argmax(score_mat[t])\n",
    "    best_score = np.max(score_mat[t])\n",
    "    best_path = [best_t]\n",
    "    for z_t in range(n-1,0,-1):\n",
    "        best_t = path_mat[z_t][best_t]\n",
    "        best_path.append(best_t)\n",
    "    best_path.reverse()\n",
    "    return best_score,best_path"
   ]
  },
  {
   "cell_type": "code",
   "execution_count": 7,
   "metadata": {},
   "outputs": [
    {
     "name": "stdout",
     "output_type": "stream",
     "text": [
      "smaple 1 got prob 0.000008 path :\n",
      "real_path start->normal->favour->normal->normal->favour->favour->normal\n",
      "decode path normal-> normal-> normal-> normal-> normal-> normal-> normal \n",
      "\n",
      "smaple 2 got prob 0.000027 path :\n",
      "real_path start->normal->normal->normal->normal->normal->normal->normal\n",
      "decode path normal-> normal-> normal-> normal-> normal-> normal-> normal \n",
      "\n",
      "smaple 3 got prob 0.000059 path :\n",
      "real_path start->normal->favour->normal->normal->heavy->normal->normal\n",
      "decode path normal-> normal-> normal-> normal-> normal-> normal-> normal \n",
      "\n",
      "smaple 4 got prob 0.000003 path :\n",
      "real_path start->normal->heavy->favour->favour->favour->favour->normal\n",
      "decode path heavy-> heavy-> heavy-> heavy-> heavy-> heavy-> heavy \n",
      "\n",
      "smaple 5 got prob 0.000008 path :\n",
      "real_path start->heavy->favour->normal->heavy->favour->normal->favour\n",
      "decode path normal-> normal-> normal-> normal-> normal-> normal-> normal \n",
      "\n",
      "smaple 6 got prob 0.000033 path :\n",
      "real_path start->normal->normal->normal->favour->favour->favour->normal\n",
      "decode path normal-> normal-> normal-> normal-> normal-> normal-> normal \n",
      "\n",
      "smaple 7 got prob 0.000010 path :\n",
      "real_path start->favour->normal->normal->heavy->favour->favour->normal\n",
      "decode path normal-> normal-> normal-> normal-> normal-> normal-> normal \n",
      "\n",
      "smaple 8 got prob 0.000006 path :\n",
      "real_path start->favour->favour->heavy->normal->normal->heavy->heavy\n",
      "decode path normal-> normal-> normal-> normal-> normal-> normal-> normal \n",
      "\n",
      "smaple 9 got prob 0.000033 path :\n",
      "real_path start->normal->normal->normal->normal->favour->heavy->normal\n",
      "decode path normal-> normal-> normal-> normal-> normal-> normal-> normal \n",
      "\n",
      "smaple 10 got prob 0.000003 path :\n",
      "real_path start->normal->heavy->favour->normal->normal->favour->normal\n",
      "decode path heavy-> heavy-> heavy-> heavy-> heavy-> heavy-> normal \n",
      "\n"
     ]
    }
   ],
   "source": [
    "for i,sample in enumerate(samples_obs[:10]):\n",
    "    real_path = samples_hiddens[i]\n",
    "    prob,decode_path=viterbi_decode(sample)\n",
    "    print('smaple %d got prob %.6f path :'%(i+1,prob))\n",
    "    print('real_path','->'.join(['start']+real_path))\n",
    "    print('decode path','-> '.join(['start' if z==-1 else Z[z] for z in decode_path]),'\\n')"
   ]
  },
  {
   "cell_type": "markdown",
   "metadata": {},
   "source": [
    "### HMM 的参数估计 \n",
    "参数估计使用EM算法"
   ]
  },
  {
   "cell_type": "code",
   "execution_count": null,
   "metadata": {
    "collapsed": true
   },
   "outputs": [],
   "source": []
  }
 ],
 "metadata": {
  "kernelspec": {
   "display_name": "Python 3",
   "language": "python",
   "name": "python3"
  },
  "language_info": {
   "codemirror_mode": {
    "name": "ipython",
    "version": 3
   },
   "file_extension": ".py",
   "mimetype": "text/x-python",
   "name": "python",
   "nbconvert_exporter": "python",
   "pygments_lexer": "ipython3",
   "version": "3.6.2"
  }
 },
 "nbformat": 4,
 "nbformat_minor": 2
}
